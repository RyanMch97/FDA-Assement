{
 "cells": [
  {
   "cell_type": "markdown",
   "metadata": {},
   "source": [
    "# Normal Distribution"
   ]
  },
  {
   "cell_type": "markdown",
   "metadata": {},
   "source": [
    "In statistics, the normal distribution is a continuous probability distribution that is symmetrical about the mean, showing that data near the mean are more frequent in occurrence than data far from the mean. It is known as the \"bell curve\" because of its shape. The normal distribution is often used to model data that follows a roughly bell-shaped curve, as it is a mathematically tractable distribution that is easy to work with.\n",
    "\n",
    "The normal distribution is defined by its mean, which is the center of the distribution, and its standard deviation, which is a measure of how spread out the data is. The normal distribution is completely described by these two parameters, and any normal distribution can be completely specified by these two numbers.\n",
    "\n",
    "The normal distribution is used in many fields, including finance, biology, and engineering, to model data and make predictions about future events. It is a commonly used distribution in statistical hypothesis testing, and is often used as a null hypothesis in statistical tests."
   ]
  },
  {
   "attachments": {
    "image.png": {
     "image/png": "[encoded data removed]"
    }
   },
   "cell_type": "markdown",
   "metadata": {},
   "source": [
    "![image.png](attachment:image.png)"
   ]
  },
  {
   "cell_type": "raw",
   "metadata": {},
   "source": [
    "Key Features of Normal Distributions\n",
    "  1- The mean, median and mode are exactly the same\n",
    "  2- The distribution is symmetric about the mean—half the values fall below the mean and half above the mean.\n",
    "  3- Normal distribution follows the empircal rule & let us know where our values lie"
   ]
  },
  {
   "cell_type": "markdown",
   "metadata": {},
   "source": []
  },
  {
   "cell_type": "code",
   "execution_count": null,
   "metadata": {},
   "outputs": [],
   "source": []
  }
 ],
 "metadata": {
  "kernelspec": {
   "display_name": "Python 3 (ipykernel)",
   "language": "python",
   "name": "python3"
  },
  "language_info": {
   "codemirror_mode": {
    "name": "ipython",
    "version": 3
   },
   "file_extension": ".py",
   "mimetype": "text/x-python",
   "name": "python",
   "nbconvert_exporter": "python",
   "pygments_lexer": "ipython3",
   "version": "3.9.13"
  }
 },
 "nbformat": 4,
 "nbformat_minor": 1
}
