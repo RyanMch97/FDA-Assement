{
 "cells": [
  {
   "cell_type": "markdown",
   "metadata": {},
   "source": [
    "## Topic 3 - Bias"
   ]
  },
  {
   "cell_type": "markdown",
   "metadata": {},
   "source": [
    "## Exercise 1"
   ]
  },
  {
   "cell_type": "markdown",
   "metadata": {},
   "source": [
    "Give three real-world examples of different types of cognitive bias."
   ]
  },
  {
   "cell_type": "markdown",
   "metadata": {},
   "source": [
    "On cognitive bias to get more of an idea of what it really is I started by using Wikipedia: https://en.wikipedia.org/wiki/Cognitive_bias\n",
    "\n",
    "From this we gather that \"A cognitive bias is a systematic pattern of deviation from norm or rationality in judgment. Individuals create their own \"subjective reality\" from their perception of the input\".\n",
    "\n",
    "From reading the wiki they provide a handy list of the various different types of Cognitive Biases.\n",
    "https://en.wikipedia.org/wiki/List_of_cognitive_biases"
   ]
  },
  {
   "cell_type": "markdown",
   "metadata": {},
   "source": [
    "##### Planning Fallacy"
   ]
  },
  {
   "cell_type": "markdown",
   "metadata": {},
   "source": [
    "For my first Example I am going to use the Egocentric bias - [Planning Fallacy](https://en.wikipedia.org/wiki/Planning_fallacy)\n",
    "\n",
    "Planning fallacy bias is defined as \"the tendency for people to underestimate the time it will take them to complete a given task.\"\n",
    "\n",
    "Many people with poor planning skills can fall foul of Planning Fallacy Bias. For example many students often times do not give themselves enough time to complete an assignment or assement, this leads to submitting an assignment or project past a due date & receiving poor grades.\n",
    "\n",
    "In work environments you might be given a task by a manager on any given day & he requests for it to be complete by 5pm, COB (Close of Business). In this example let's say this is a task you have completed on numerous occassions before & you nominate 45 mins around the end of the day to complete. You start at 4:15 but soon after starting the task this may be tougher than orginally, you give the task completed to your boss at 5:30pm, he's not happy either that you've fallen foul of Planning Fallacy Bias.\n"
   ]
  },
  {
   "cell_type": "markdown",
   "metadata": {},
   "source": [
    "Many people with poor planning skills can fall foul of Planning Fallacy Bias. For example many students often times do not give themselves enough time to complete an assignment or assement, this leads to submitting an assignment or project past a due date & receiving poor grades."
   ]
  },
  {
   "cell_type": "markdown",
   "metadata": {},
   "source": [
    "In work environments you might be given a task by a manager on any given day & he requests for it to be complete by 5pm, COB (Close of Business). In this example let's say this is a task you have completed on numerous occassions before & you nominate 45 mins around the end of the day to complete. You start at 4:15 but soon after starting the task this may be tougher than orginally, you give the task completed to your boss at 5:30pm, he's not happy either that you've fallen foul of Planning Fallacy Bias."
   ]
  },
  {
   "cell_type": "markdown",
   "metadata": {},
   "source": [
    "##### Anchoring"
   ]
  },
  {
   "cell_type": "markdown",
   "metadata": {},
   "source": [
    "For my second example I will use [Anchoring Bias](https://en.wikipedia.org/wiki/Anchoring_(cognitive_bias))\n",
    "\n",
    "this is defined as \"anchoring effect is a cognitive bias whereby an individual's decisions are influenced by a particular reference point or 'anchor\"\n",
    "\n",
    "As per the wikipedia page they state numerous examples such as car dealerships placing more expensive models beside base models of cars so that prospective buyers will be more inclined to purchased the cheaper model due to viewing the expensive kitted out model as the \"Anchor\" in terms of pricing"
   ]
  },
  {
   "cell_type": "markdown",
   "metadata": {},
   "source": [
    "For my real world example I am going to use online shopping & specfically Delivery fee's. \n",
    "Throughout the year we all find ourselves doing online shopping at some stage, the majority of people will have particular items that wish to purchase, a new jumper & a pair of Jeans is what we will use for this example.\n",
    "Let's say you purchased Jeans & a new jumper last Black Friday for a cheap cost of €80."
   ]
  },
  {
   "cell_type": "markdown",
   "metadata": {},
   "source": [
    "Your find a brand that you really like & go to there online store. You browse the clearance section & select two items totalling €70. You assume the delivery will be less than €10 & since you are comparing to last years \"Anchor\" price you are happy to checkout."
   ]
  },
  {
   "cell_type": "markdown",
   "metadata": {},
   "source": [
    "When you get to checkout you realise you have been browsing the US store & there is no european website/shipping to avail of.\n",
    "The delivery will set you back an extra €20 bringing your new total to €90. \n",
    "Now subconsciously due to the anchor price from last Novemeber you are convincing yourself not to buy due to the \"Anchor\".\n",
    "This is an example of Anchoring Bias"
   ]
  },
  {
   "cell_type": "markdown",
   "metadata": {},
   "source": [
    "##### Implicit bias"
   ]
  },
  {
   "cell_type": "markdown",
   "metadata": {},
   "source": [
    "For my final Cognitive Bias I am going to use Implicit Bias [Implicit Bias ](https://en.wikipedia.org/wiki/Implicit_stereotype)"
   ]
  },
  {
   "cell_type": "markdown",
   "metadata": {},
   "source": [
    "As per Wikipedia this is defined as \"Implicit Bias is the pre-reflective attribution of particular qualities by an individual to a member of some social out group\".\n",
    "Implicit Biases specifically are described as \"the product of associations learned through past experiences\".\n",
    "With this the Bias can either be postive or negative. For my real world examples I will use both Positive & Negative examples."
   ]
  },
  {
   "cell_type": "markdown",
   "metadata": {},
   "source": [
    "Postive Implicit Bias is something as Irish citizens we may experience quite a bit when we venture abroad. \n",
    "Let's take Irish Citizens aboard in America. Speaking from personal experience when I lived in America the American people I met who visited Ireland typically had only good things to say such as \"kind\", \"Well Natured\", \"Friendly\" people.\n",
    "This gives them an implicit Bias that any Irish citizen in american may be as kind & friendly as the previous Irish people they met who gave them a good impression."
   ]
  },
  {
   "cell_type": "markdown",
   "metadata": {},
   "source": [
    "Negative Implicit Bias sadly can often be attributed to any of the following for example, Race & Age.\n",
    "In terms of race some people may have negative implicit bias's towards certain races of people. For example if you got robbed by a man of a particular race you potentially might hold a negative implicit Bias towards fellow members of that race even though the actions of one Man/Women should not define the actions of an entire race."
   ]
  },
  {
   "cell_type": "markdown",
   "metadata": {},
   "source": [
    "In terms of age in the real world this can be work related for example. A manager may be requested to promote someone & given 3 choices. If this manager has hired a younger person in the past who failed to live up to expectations he may decide against promoting a younger canditate for the promotion due to there implicit bias after the last young hire.\n",
    "With this it can also be noted that the younger canditate may be best suited for the promotion role but the Managers Bias negatively affects his decision making."
   ]
  },
  {
   "cell_type": "markdown",
   "metadata": {},
   "source": [
    "### Exercise 2"
   ]
  },
  {
   "cell_type": "markdown",
   "metadata": {},
   "source": [
    "Using the code shown in the lecture notebook we will run the same plots & graph but change the sample size to show the difference in standard deviation & run some code to highlight the difference"
   ]
  },
  {
   "cell_type": "code",
   "execution_count": 8,
   "metadata": {},
   "outputs": [],
   "source": [
    "# Numerical arrays library.\n",
    "import numpy as np\n",
    "\n",
    "# Plots library\n",
    "import matplotlib.pyplot as plt"
   ]
  },
  {
   "cell_type": "code",
   "execution_count": 18,
   "metadata": {},
   "outputs": [
    {
     "data": {
      "text/plain": [
       "array([10.528931  ,  9.48795491, 11.09026863, 10.78716719,  9.55206559,\n",
       "       12.64129086,  9.1606267 ,  8.37659877, 10.34205064, 11.29380341,\n",
       "        9.27222296, 10.04044204, 10.09449035, 10.84095581,  9.56085562,\n",
       "        9.0736028 ,  8.46965534,  8.96195457,  8.72464669,  8.93092699,\n",
       "        9.47033466,  9.92910471,  8.64989634,  9.9863916 ,  9.42792638,\n",
       "        8.8739636 ,  7.86585402,  9.07414393, 10.04034976, 10.68597925,\n",
       "        9.96717733,  9.50390231, 11.54811897, 11.65802817, 10.75568697,\n",
       "       10.74804396, 10.73894131,  8.66863985, 10.40281923,  9.84688409,\n",
       "        8.87975344, 11.22529107,  9.92011081, 10.0495569 ,  9.75698766,\n",
       "       10.63051342,  9.85037827, 11.12601748, 11.14477559, 10.67837967,\n",
       "       10.17453682, 11.66181494,  9.59890128, 11.1606521 , 10.69483408,\n",
       "        9.64733735,  9.89291351,  9.30703057, 10.28219188,  8.56260208,\n",
       "        9.76934479, 10.56285745,  9.55740554,  8.81224536, 10.51451319,\n",
       "        8.84552253,  9.6870535 ,  7.97515159,  9.78053604, 11.39709976,\n",
       "       11.13542889,  9.25563777,  9.5539047 ,  7.99303996,  8.88372137,\n",
       "        9.84906252,  9.94278635, 10.34212036, 10.41335213,  8.86988249,\n",
       "       10.52953616,  8.77469712,  9.78977718, 10.02236432, 10.51748587,\n",
       "       10.7194585 , 10.43423009,  9.99329292, 10.74864091, 10.45894169,\n",
       "        9.60634683,  9.75926386,  9.85864754,  9.40124077, 10.80715974,\n",
       "        9.97781283, 10.36263412,  8.79624541, 11.66264678, 11.22907158,\n",
       "       10.1936707 , 10.86457343,  9.94432739,  9.44823669,  9.36690207,\n",
       "        9.98228593,  9.58643769, 11.21676895,  9.58926763,  9.08800467,\n",
       "        9.98346386,  8.75843181,  7.98626625, 10.66553623,  9.725477  ,\n",
       "       10.10965093,  8.06158236, 10.56414078,  8.43960311, 11.07484505,\n",
       "       11.81759945,  9.53823561,  9.70216747,  9.90336751,  9.99487193,\n",
       "        8.61738135, 11.12622907, 10.79727224, 10.79497131, 10.55883839,\n",
       "       11.28895593, 10.09266558,  9.68206438,  9.29440659,  8.48496002,\n",
       "       11.03405455,  7.71186009, 10.79954504, 11.56948248, 11.5854001 ,\n",
       "        9.64146012, 10.32585087,  9.65394369, 11.12136149,  8.33586977,\n",
       "       11.43564697, 10.3834998 , 11.16334252,  8.61308313,  9.60543691,\n",
       "       10.18825905,  9.02931618, 11.8789826 ,  9.83511866, 11.26466232,\n",
       "       11.09322436, 11.34558139, 10.46484756, 10.14777786,  9.43302643,\n",
       "       10.80356598, 11.35669012,  8.89368787,  8.86112691,  9.72288964,\n",
       "       10.74102226,  8.01020018, 10.2663195 ,  8.56378359, 10.15909524,\n",
       "        9.32079626,  8.51559737,  8.46885228,  9.08202637,  8.11441233,\n",
       "        7.73251947, 10.16987882,  9.84092737, 10.58667332, 10.3193284 ,\n",
       "        9.92412103, 10.1202349 , 10.06074114,  9.76088693,  9.83089202,\n",
       "       10.54445932,  9.67140876,  7.45066051,  9.75216479,  9.51428892,\n",
       "        9.3708993 , 11.71727957,  7.70687158,  9.82108551, 10.49644995,\n",
       "       10.23182831,  9.41134867, 11.30749185, 10.8188172 ,  9.24153379,\n",
       "        9.52980133,  7.61909113,  8.8933199 ,  8.75107807, 10.95921761,\n",
       "        9.77578581, 11.486706  , 12.12696632,  9.22347737, 11.20232698,\n",
       "        9.99244073, 11.54164597, 10.3799264 ,  7.40197277, 11.80083183,\n",
       "        6.76117072,  9.73426671,  8.48907002, 10.28293577, 10.65768282,\n",
       "        9.25022453,  8.02488828,  8.91471881,  8.56232618,  8.40309711,\n",
       "       10.84255858,  9.2204716 , 11.11863072, 12.08426491, 10.0414567 ,\n",
       "       10.6800667 ,  9.57361984, 11.51880323, 10.34415329,  9.59904552,\n",
       "       10.12389451,  8.85891633, 10.36088435, 10.1296902 ,  9.18566382,\n",
       "       11.05458929, 10.27938028,  8.76667336, 10.72092364,  9.80422221,\n",
       "       10.04345956, 10.2665839 , 10.95760428,  8.04064064,  8.62174583,\n",
       "       10.23624031,  8.89466131, 12.15234816, 10.5805531 ,  9.95691121,\n",
       "        9.84397104,  8.99411745, 10.14175312, 10.423665  ,  9.49044195,\n",
       "        8.99321384, 10.59955362,  9.94005366,  9.10803648, 10.31705547,\n",
       "        8.70378058, 11.07891517, 10.05541051, 11.93163524, 10.72408848,\n",
       "        9.7704596 ,  9.21306441, 12.31102473,  9.46250425,  9.14154522,\n",
       "       10.99393793, 10.46372311,  9.11110656, 10.37263193, 10.78596194,\n",
       "        8.78205092,  9.96918741,  8.39962439,  9.91737165, 10.23052081,\n",
       "       11.05190447, 10.50942888, 10.93790096, 10.94232153,  9.04217449,\n",
       "       10.02727404, 10.60235075,  9.82167409,  9.88733234, 10.12891146,\n",
       "        9.00831565, 10.46006691, 12.22389136,  9.23495017,  8.43320562,\n",
       "       11.47300651,  8.52466493,  9.65162232, 11.02548226,  8.17616191,\n",
       "        9.01421765,  9.53487464,  9.36645545,  9.9939343 ,  8.89409292,\n",
       "        9.74376962,  9.79261297, 10.1878831 ,  9.82971379,  8.33432458,\n",
       "        9.15981422,  9.85395906, 10.42692468, 11.66095775,  9.9417637 ,\n",
       "        9.74195775, 11.8184987 , 10.41305048,  9.58505235, 10.95750218,\n",
       "       12.46576284, 10.19796293,  9.73720499, 11.32423453, 11.25795822,\n",
       "       10.30135484,  7.98464215, 11.18177703,  8.92140004, 10.07592326,\n",
       "       10.70031005, 10.49727151,  9.37177062, 10.60393173, 10.73294087,\n",
       "        9.10436376,  9.50577545,  8.59022883,  8.62338378,  8.03637905,\n",
       "        9.82606774,  8.11171866, 10.00777036,  8.80319525,  8.74287837,\n",
       "        8.79772194, 11.76189826,  8.68566208,  8.99844219,  9.97294918,\n",
       "        9.10501659, 11.49854365,  9.87987481, 12.4174666 , 10.58038955,\n",
       "        8.57812614, 11.4037113 , 10.86232048,  9.87471747,  7.97150796,\n",
       "        8.7247202 ,  7.53554194, 10.41912863,  9.61645793, 11.16909009,\n",
       "       10.57846252, 10.38191082,  9.18170279, 11.7038448 ,  9.84908241,\n",
       "       10.27867188,  9.27228366,  8.65802812,  9.35329247, 12.2369935 ,\n",
       "        8.19217427,  9.96125796, 10.33151637, 10.05864373,  9.99043578,\n",
       "        9.77929642, 10.89324491,  8.90149184,  9.95579991,  9.21915664,\n",
       "       11.2060195 ,  8.15996134,  9.67114788,  9.62004021,  9.38241424,\n",
       "       10.78950614, 10.00183156, 10.20124874, 10.37417514,  9.66977835,\n",
       "        9.95397304, 12.14218348,  9.7868205 , 10.6288567 , 12.15715107,\n",
       "        9.15304922,  9.36049475, 10.14520531, 10.38479181,  8.97990549,\n",
       "       10.34351458,  9.86872101,  8.68222675,  9.64379932,  9.77882234,\n",
       "       10.25140982, 10.72305327, 11.55957388,  8.92464524, 10.73231872,\n",
       "        9.95312055,  9.62864005,  7.76864197,  9.35883637, 10.78093554,\n",
       "        9.84272106, 11.16358288, 10.97220685, 10.71100766, 10.48997678,\n",
       "       11.1345959 ,  9.9373922 ,  9.39911008,  8.75024707,  9.40095116,\n",
       "       10.26629128, 11.37040269, 11.35636171,  9.79407117, 10.5234437 ,\n",
       "        8.98486949, 11.33410567,  8.84068906,  9.56807867,  9.98885534,\n",
       "       11.46568215,  9.63698689, 10.265907  , 10.09112992,  9.77721368,\n",
       "       10.56656638,  9.01214422, 10.57029096,  9.19881671, 11.96613562,\n",
       "        9.17750639, 13.26960571, 10.04470019, 11.04033178, 10.62433041,\n",
       "       10.39864734,  9.62411923,  8.28242934,  8.91517491,  8.99376299,\n",
       "        9.21261126,  8.97474894, 10.53249862,  9.14352013,  9.33014459,\n",
       "       10.34870681, 11.05212933, 11.34533521, 10.32470393, 10.46323193,\n",
       "       12.52215822,  9.53775686, 10.1904901 , 11.35879716,  8.16240051,\n",
       "       11.0621332 ,  9.2726569 ,  8.93569204,  9.07932299,  9.35144727,\n",
       "        9.92711147,  8.77531359, 10.67864236, 12.32582387,  9.87942588,\n",
       "       11.88532389, 11.35440501,  9.78630936, 10.54131724, 10.44401753,\n",
       "       10.98166082,  9.78309541, 10.06228927,  9.5756063 ,  9.78754047,\n",
       "       10.43501456, 10.45556397,  9.25908018,  9.63740525, 10.39416139,\n",
       "       10.88686711, 10.99463798,  9.27336209, 10.17087253,  8.64590781,\n",
       "       10.09944234, 11.44423035,  9.33857703,  9.31658501, 10.90390256,\n",
       "       11.96926288,  9.30756845,  9.85976007,  9.2802863 ,  9.87671578,\n",
       "       11.77491783, 11.62374876,  9.04969943,  8.82525539, 10.9043198 ,\n",
       "        9.60743772, 10.43792981,  9.32303782, 11.30483616, 10.49179752,\n",
       "        9.79872273, 11.27198313, 11.09905322,  9.09681658, 10.3329885 ,\n",
       "        9.37673733, 10.73560396,  8.90905382,  9.81304372, 10.00794577,\n",
       "       11.4780518 , 10.70074119,  8.27461024,  8.88526992, 10.20770928,\n",
       "        9.35333135,  9.46033823,  9.68410468, 10.15364128, 11.57835197,\n",
       "        9.42188842, 11.26801217, 11.28269872, 11.25765417,  9.3056232 ,\n",
       "       10.05664678, 10.40985327, 10.26245899, 11.16594857,  9.72256992,\n",
       "       12.01015582,  9.9407229 , 11.25633331, 10.92052425, 10.20816078,\n",
       "       10.38409869,  9.53120632, 11.43756223, 11.11793308,  9.45020804,\n",
       "       10.67528835, 11.22898852,  9.02110218, 11.16133222, 10.22203813,\n",
       "        6.73973866,  9.96989882, 10.91826245, 10.99768057, 10.95757188,\n",
       "        9.5381245 , 10.61387372, 10.51709036, 11.4100966 ,  7.52674207,\n",
       "        9.32462945,  9.16770509, 11.48054063,  9.48336083, 11.12954442,\n",
       "       10.09544783, 11.13110024, 12.45011454,  8.52499665, 10.48079713,\n",
       "        9.4687277 ,  9.53447024, 10.12741605, 11.18807933, 11.18520443,\n",
       "       10.45502821,  8.53783269, 11.1824921 , 10.15769038, 10.00145718,\n",
       "        9.20601685,  9.00841227, 10.2123712 , 10.09375851,  9.43079886,\n",
       "        9.11270432,  9.37882089, 11.26125735,  9.7052075 , 10.41239339,\n",
       "       11.35851972,  9.08731748, 10.08709687, 10.80853173, 10.1633448 ,\n",
       "       10.82681236, 10.00863544, 10.46227816,  9.16019163,  8.56140537,\n",
       "       11.54603326,  9.84900031, 10.77601568, 10.43586121,  9.88196595,\n",
       "       10.00276739, 11.93934638, 10.75065762, 10.53170154, 10.55094298,\n",
       "       10.28046133,  8.86087822, 10.30635856,  8.42573887,  9.54161404,\n",
       "       10.37393322,  9.73140712,  9.25127957, 10.42346912, 11.09285321,\n",
       "        9.73234984, 10.35679232,  9.19633718,  9.62380771, 10.67635343,\n",
       "       11.1549883 , 10.95300711,  9.70067713, 10.50719426,  8.80829133,\n",
       "        9.69940462,  9.53412432, 10.86883141,  9.84820025,  9.43845261,\n",
       "       10.79215244,  9.92003431, 13.13794056,  9.77279372, 10.54655136,\n",
       "       10.81978327,  8.42406317,  9.73565905,  9.90688068, 10.47195974,\n",
       "       10.24375801,  9.59531505, 10.15551165, 11.73475846, 11.60697805,\n",
       "        8.82748533,  8.94766578, 10.77486191, 10.08049703,  7.52008177,\n",
       "        8.70056091, 11.04721684,  9.54567339, 10.23908977,  9.43756801,\n",
       "        9.22244141,  8.35194099,  8.91314761,  8.36192926,  9.58711936,\n",
       "        9.74456543, 10.72635355, 12.44360813, 11.41923819,  8.54773722,\n",
       "       10.31772724, 10.70907661, 11.20608592, 10.09173844,  9.94597568,\n",
       "       10.67187627, 11.18595521, 10.1264893 ,  9.83416919, 10.87962013,\n",
       "        9.27151322,  8.83833799, 11.54512151, 10.87876601, 11.42954164,\n",
       "        9.18728801, 10.11823482, 11.05871195, 10.01395936, 10.84999079,\n",
       "       10.12998978, 11.21168792, 10.17615198, 10.07945811, 10.28083705,\n",
       "        8.90104046,  9.38209901, 10.362794  ,  9.92164208,  9.6327542 ,\n",
       "        9.36630217,  9.95421711,  9.97067802,  9.92312856,  9.76688905,\n",
       "        8.67148708, 10.82310033, 11.45683214, 10.42500855, 10.22544379,\n",
       "       10.04943156,  9.02921849, 10.2207233 ,  9.94267049, 10.55978389,\n",
       "        8.50750934,  8.65301543, 11.1881326 ,  8.89470333, 10.84030572,\n",
       "       10.91222037,  9.54650414,  9.02063814, 10.3088773 ,  9.25848454,\n",
       "       10.23834442, 11.32651047,  9.70168626,  9.6268431 , 10.10964973,\n",
       "        9.4609518 ,  9.21853291, 10.53934956, 11.77596423,  9.608261  ,\n",
       "        8.34632737,  9.28315233,  9.14310635,  9.96789922,  8.81635246,\n",
       "        9.98168917, 10.76098252,  9.03028865, 11.28252687, 11.36716812,\n",
       "        8.66607861, 10.47783119, 10.91543562,  9.38397279,  9.5618733 ,\n",
       "        9.87298709,  8.80842974, 10.48483491,  8.8441807 , 10.3441622 ,\n",
       "        9.96367275, 10.11105648, 10.4341594 , 11.54281139,  8.71589429,\n",
       "        9.37071433, 10.0708275 ,  9.47853236, 10.06166804, 10.77801546,\n",
       "       10.67083353,  9.56352419, 11.44514486,  8.51265986, 11.00549152,\n",
       "        8.63688119, 11.02951985,  8.63540335,  9.5638211 ,  7.9386032 ,\n",
       "       10.37373159,  9.90437283, 11.43242326, 10.30000543,  9.14803647,\n",
       "        9.59975966, 11.42555668, 11.45755876,  9.57041919, 10.20214461,\n",
       "        8.96995253, 10.08069212,  8.7566253 ,  8.20722437, 10.1363971 ,\n",
       "       10.68307588, 11.16602067, 10.54072178,  9.8963177 ,  9.08538869,\n",
       "        8.51787846, 11.68315535, 10.11824525,  9.2268993 ,  8.57976837,\n",
       "        9.27224493, 10.32912846,  9.88788799,  9.96110545,  8.78497492,\n",
       "        9.16852334,  8.26127427, 10.14906007, 11.16711357, 11.23108905,\n",
       "        8.90049405, 10.33997711, 10.2092267 ,  7.64269924,  9.06514301,\n",
       "       11.14077533, 10.62841845, 10.63377407,  9.96466489,  9.43515085,\n",
       "       10.05593873, 11.52992376,  9.97814692,  9.55009089,  9.20644197,\n",
       "       11.60445618, 10.89238114,  8.82408984, 13.04097063,  9.84268154,\n",
       "       10.49966883,  9.52785585,  9.53435094, 10.34601436, 10.40000685,\n",
       "        9.38233088, 11.28135529,  8.72784285,  7.48846132, 10.00356249,\n",
       "        9.17554107, 10.65279592, 10.34234222, 10.31558473, 11.42007981,\n",
       "        8.10982606, 10.5059874 , 10.49677829,  8.982533  , 10.45813207,\n",
       "        9.72165923, 10.91970931, 10.0445162 , 11.02246957,  9.5126745 ,\n",
       "        9.26514926, 10.48473881,  9.04886885, 10.66786392, 10.51919693,\n",
       "       10.85694528, 10.42287776,  9.57770818,  9.21780828, 10.11839625,\n",
       "       10.12257431,  8.48806717,  9.55998307,  9.70131362,  8.51938433,\n",
       "       10.11962769, 10.27075961,  7.90815243, 10.5168908 , 10.51167856,\n",
       "       10.08858197, 10.34390574, 10.28443374,  9.75389093,  7.96462272,\n",
       "        8.73514431,  9.39927221,  9.12349558,  8.93105686, 11.17789802,\n",
       "       10.60045496,  8.87682856, 10.29915491,  7.68311539, 10.42653217,\n",
       "       10.2268569 , 11.05842646, 11.07838785,  8.36014197, 10.30686814,\n",
       "        9.15427644,  9.35441824, 10.45794651,  9.64431781, 10.99259476,\n",
       "       10.28946919,  9.99606834,  8.18431164,  9.49765764,  7.73755411,\n",
       "       10.87120824,  9.20946747, 10.14188076,  9.51440999,  9.83145382,\n",
       "        9.24509523,  9.22793945,  9.66067402, 12.35080642, 11.14692088,\n",
       "        8.91579057,  7.99966192,  9.01970225, 10.42480716, 11.24037352,\n",
       "        8.76297441, 11.36859158, 10.50305522, 10.68787838, 10.93735888,\n",
       "       10.31637508, 10.42510693,  9.6948038 ,  9.77604583, 10.04884257,\n",
       "        9.57737683,  9.51183258, 10.08444889,  9.11231959,  8.16312852,\n",
       "       11.18901706, 10.15760963, 10.31753679, 11.09286749,  9.84397117,\n",
       "        9.43195294,  8.80624514, 10.17279973, 10.40780441, 11.22861534,\n",
       "       10.1440723 , 10.6056124 , 10.71621935, 10.100898  , 12.23081248,\n",
       "       10.52852422,  8.81134741, 10.95504182,  9.68646059,  8.00700195,\n",
       "        9.68912476,  9.6278879 , 11.0520789 ,  7.6690074 , 10.34485872,\n",
       "        9.66957028,  8.79523529, 10.32174023, 11.14125092, 11.17302695,\n",
       "        8.48277069, 10.28806034,  9.99948657, 10.52449334,  9.51529115,\n",
       "       10.45611544, 11.07339679, 11.49702695,  7.9861799 ,  9.14144157])"
      ]
     },
     "execution_count": 18,
     "metadata": {},
     "output_type": "execute_result"
    }
   ],
   "source": [
    "x = np.random.normal(10.0, 1.0, 1000)\n",
    "x"
   ]
  },
  {
   "cell_type": "code",
   "execution_count": 22,
   "metadata": {},
   "outputs": [
    {
     "data": {
      "text/plain": [
       "array([[ 2.63436173,  3.01196769,  1.37586234, -0.02740768, -1.36909497],\n",
       "       [-1.10480398, -4.37056867,  2.83133453,  0.73103424,  2.6952854 ],\n",
       "       [ 2.40961489, -1.80777975, -3.15374235,  1.04530988, -1.1035245 ],\n",
       "       ...,\n",
       "       [ 1.450047  , -0.72008927,  2.77162971,  0.93888262,  1.18480894],\n",
       "       [ 0.14088502, -0.29607706,  0.45780646, -0.2075601 , -1.5244753 ],\n",
       "       [-0.22583847, -1.0255563 ,  3.01656161,  2.99329429,  1.73091577]])"
      ]
     },
     "execution_count": 22,
     "metadata": {},
     "output_type": "execute_result"
    }
   ],
   "source": [
    "# Create 100000 samples of size 5 - standard deviation is 2.0.\n",
    "xsamples = np.random.normal(0.0, 2.0, (100000, 5))\n",
    "xsamples"
   ]
  },
  {
   "cell_type": "code",
   "execution_count": 23,
   "metadata": {},
   "outputs": [
    {
     "data": {
      "text/plain": [
       "array([1.64014054, 2.68385913, 1.99841408, ..., 1.11889375, 0.67461904,\n",
       "       1.65746133])"
      ]
     },
     "execution_count": 23,
     "metadata": {},
     "output_type": "execute_result"
    }
   ],
   "source": [
    "# Calculate standard deviation without correction.\n",
    "stdevs = xsamples.std(axis=1)\n",
    "stdevs"
   ]
  },
  {
   "cell_type": "code",
   "execution_count": 11,
   "metadata": {},
   "outputs": [
    {
     "data": {
      "image/png": "[encoded data removed]",
      "text/plain": [
       "<Figure size 1200x600 with 1 Axes>"
      ]
     },
     "metadata": {},
     "output_type": "display_data"
    }
   ],
   "source": [
    "# View a histogram - hopefully we can see the estimate is too small.\n",
    "fig, ax = plt.subplots(figsize=(12, 6))\n",
    "\n",
    "# Plot histogram.\n",
    "plt.hist(stdevs, bins=100)\n",
    "\n",
    "# Draw a vertical line where the actual standard deviation is.\n",
    "plt.axvline(x=2.0, color='red');"
   ]
  },
  {
   "cell_type": "code",
   "execution_count": 56,
   "metadata": {},
   "outputs": [
    {
     "data": {
      "text/plain": [
       "1.0036732662128025"
      ]
     },
     "execution_count": 56,
     "metadata": {},
     "output_type": "execute_result"
    }
   ],
   "source": [
    "# Correction\n",
    "# Uncorrected variance.\n",
    "XuncorrectedVariance = np.mean(np.square(x - np.mean(x)))\n",
    "XuncorrectedVariance"
   ]
  },
  {
   "cell_type": "code",
   "execution_count": 57,
   "metadata": {},
   "outputs": [
    {
     "data": {
      "text/plain": [
       "1.0046779441569595"
      ]
     },
     "execution_count": 57,
     "metadata": {},
     "output_type": "execute_result"
    }
   ],
   "source": [
    "# Corrected variance.\n",
    "xcorrectedVariance = np.mean(np.square(x - np.mean(x))) * (len(x) / (len(x) - 1.0))\n",
    "xcorrectedVariance"
   ]
  },
  {
   "cell_type": "code",
   "execution_count": 59,
   "metadata": {},
   "outputs": [
    {
     "data": {
      "text/plain": [
       "-0.0010046779441570397"
      ]
     },
     "execution_count": 59,
     "metadata": {},
     "output_type": "execute_result"
    }
   ],
   "source": [
    "StandardDeviationLargeDifference = XuncorrectedVariance - xcorrectedVariance\n",
    "StandardDeviationLargeDifference"
   ]
  },
  {
   "cell_type": "markdown",
   "metadata": {},
   "source": [
    "##### Smaller Sample Size "
   ]
  },
  {
   "cell_type": "code",
   "execution_count": 45,
   "metadata": {},
   "outputs": [
    {
     "data": {
      "text/plain": [
       "array([11.1329584 , 10.19406879, 11.38050823, 10.74398324,  9.74817526,\n",
       "       10.37586909,  8.39584952, 10.36038709, 10.88312667, 10.71304675,\n",
       "        8.79033482,  8.99037654,  7.55980671, 10.36357924,  9.734588  ,\n",
       "       11.24404255, 11.27085024, 11.52025872, 10.35409654,  8.48567872,\n",
       "        8.81379239, 10.61920726,  8.77331998, 10.99999763, 11.96583939,\n",
       "       10.87714466, 10.69325528,  9.25464462, 10.06023685,  9.13579897,\n",
       "        9.44179672, 10.58682668,  8.99080357,  9.17891434,  9.97848487,\n",
       "       11.33059635, 10.50590698,  9.38656343,  8.64193149,  8.21496944,\n",
       "       11.08695341,  9.1052471 ,  9.39875163, 11.350064  ,  8.44186111,\n",
       "        9.35295065,  9.06192404, 11.79725026,  8.24650668,  9.58630721,\n",
       "       10.738337  ,  9.13525228,  9.29325878,  8.98406201,  9.47588966,\n",
       "       11.26172764, 11.39077043,  9.43693696,  9.75650781, 10.26190016,\n",
       "        8.60963964, 11.09439425,  9.25920852,  9.91697696,  9.8355189 ,\n",
       "        9.55019379,  8.97857106, 10.37344578, 10.97615984, 10.58725412,\n",
       "       10.70179956,  8.74140321, 10.24673833,  9.59923716, 10.21714995,\n",
       "       10.05457606, 11.42643683, 10.5871865 ,  8.34984622, 10.6295386 ,\n",
       "        9.16974315,  8.94293717, 10.60142039, 10.94835882,  8.65909858,\n",
       "        8.96522279,  9.57565217, 10.86828264, 10.54258131,  9.49567149,\n",
       "        9.1737824 ,  7.94747046,  9.01205309, 11.03203287,  9.85543124,\n",
       "        9.70407256, 10.89739421, 10.19126591,  9.43337584,  9.6713063 ])"
      ]
     },
     "execution_count": 45,
     "metadata": {},
     "output_type": "execute_result"
    }
   ],
   "source": [
    "# Generate a sample of 100 values from a normal distribution.\n",
    "y = np.random.normal(10.0, 1.0, 100)\n",
    "y"
   ]
  },
  {
   "cell_type": "code",
   "execution_count": 46,
   "metadata": {},
   "outputs": [
    {
     "data": {
      "text/plain": [
       "array([[-1.96422698, -2.55133973, -0.13560272,  3.27516506,  0.29365435],\n",
       "       [-2.09946276,  2.00312105, -0.16974249, -1.6513982 , -0.98824783],\n",
       "       [-0.22182584,  0.15510594,  0.26468944,  1.86462626,  0.68739484],\n",
       "       ...,\n",
       "       [ 2.82033716,  1.76785731, -1.00629831, -1.41449379,  1.37746585],\n",
       "       [ 2.97596808,  0.78251575, -1.56167003,  3.45966069,  0.26032252],\n",
       "       [-3.02574136, -0.79261718, -3.59682699,  3.59607712, -5.15168406]])"
      ]
     },
     "execution_count": 46,
     "metadata": {},
     "output_type": "execute_result"
    }
   ],
   "source": [
    "# Create 1000 samples of size 5 - standard deviation is 2.0.\n",
    "ysamples = np.random.normal(0.0, 2.0, (1000, 5))\n",
    "ysamples"
   ]
  },
  {
   "cell_type": "code",
   "execution_count": 47,
   "metadata": {},
   "outputs": [
    {
     "data": {
      "text/plain": [
       "array([2.04765978, 1.44666143, 0.71835619, 1.05176442, 1.60117116,\n",
       "       1.59710003, 2.48560449, 1.41089237, 2.34862336, 1.31860219,\n",
       "       1.05317969, 1.2448778 , 2.19722673, 1.10064698, 2.31567777,\n",
       "       1.41043762, 0.79236947, 2.31250558, 1.98766189, 0.80484217,\n",
       "       2.63640671, 1.33043348, 1.40621427, 0.9489155 , 1.62917065,\n",
       "       1.75068829, 0.77836588, 1.88315649, 1.64049105, 1.41886102,\n",
       "       1.11343489, 1.93115978, 1.96838128, 0.94297036, 2.18126402,\n",
       "       0.86590339, 1.13433329, 1.60804189, 1.04487893, 1.94134905,\n",
       "       1.58396168, 2.02589792, 1.79500037, 1.86353246, 1.74182027,\n",
       "       1.23445861, 1.14643042, 1.49596279, 2.05008476, 0.84319296,\n",
       "       1.95670833, 1.50031914, 0.12161451, 1.19123878, 1.0295158 ,\n",
       "       1.64372253, 1.60412368, 1.02404324, 1.37562431, 0.99849347,\n",
       "       0.71200261, 1.03103269, 1.86725861, 1.3968682 , 2.18615023,\n",
       "       1.2443655 , 2.17792833, 2.2012801 , 0.95916495, 2.6611177 ,\n",
       "       2.15930122, 1.47425775, 1.57406151, 2.33816444, 1.99170325,\n",
       "       2.26647948, 0.32667629, 1.01132964, 1.48486367, 0.99154998,\n",
       "       1.64821366, 1.89086954, 1.74066292, 1.93193289, 1.7607735 ,\n",
       "       1.90536345, 1.6167822 , 1.88983546, 1.44019957, 1.924771  ,\n",
       "       1.88303667, 1.06758039, 2.42839885, 1.57000417, 1.59580456,\n",
       "       0.65622788, 0.46287923, 1.34728477, 1.05374185, 1.31542933,\n",
       "       1.42898981, 1.20489544, 1.40698385, 1.33780838, 1.65091463,\n",
       "       0.99970795, 2.1113393 , 0.81384714, 1.98393693, 1.31912656,\n",
       "       0.44514368, 1.62449337, 0.96193248, 1.68836303, 1.07669401,\n",
       "       1.02129561, 0.67991294, 1.40878229, 1.98325966, 0.90750725,\n",
       "       1.29416002, 0.56973589, 1.68700515, 1.03584277, 1.91407051,\n",
       "       1.58180241, 1.30368403, 1.61513746, 1.93618034, 2.12691519,\n",
       "       1.49560885, 2.4693032 , 2.46213672, 1.67072556, 1.81561633,\n",
       "       0.99200818, 1.87256253, 0.71731449, 2.17761164, 1.71361646,\n",
       "       2.28229053, 0.5234068 , 1.7919229 , 0.77768534, 1.21062244,\n",
       "       1.20255766, 1.40097658, 1.46897704, 2.33745103, 1.78816404,\n",
       "       3.73946264, 1.77361632, 1.56641375, 2.24991737, 1.52568729,\n",
       "       2.53781597, 1.83218691, 1.44006011, 1.30919189, 1.29359011,\n",
       "       1.88463197, 2.71583246, 1.03653587, 1.19035167, 2.43934886,\n",
       "       1.98319625, 1.58644229, 2.70074825, 1.77333983, 2.10999931,\n",
       "       0.52135641, 2.99948866, 1.79020308, 2.14422747, 1.77230732,\n",
       "       0.78262552, 1.4867505 , 1.81350079, 1.05451221, 1.26851634,\n",
       "       1.13391987, 2.01934723, 1.9089545 , 1.85260533, 1.53901292,\n",
       "       1.91296222, 2.74666032, 1.57504373, 2.76691759, 2.78313512,\n",
       "       2.26234626, 2.35739682, 1.10080184, 2.02173836, 2.02727288,\n",
       "       1.52045271, 1.66353737, 1.61603498, 2.44928486, 2.63526452,\n",
       "       1.11342448, 1.09020534, 1.22807268, 3.2529968 , 1.15619089,\n",
       "       1.24029233, 1.93056069, 2.11096819, 1.91609295, 1.03815298,\n",
       "       1.61150796, 1.75934056, 1.97030237, 1.74131009, 3.67521908,\n",
       "       1.89976623, 1.52457354, 1.67727348, 1.32851421, 1.58373036,\n",
       "       1.95636111, 1.36760589, 1.55818862, 1.63471589, 2.58498737,\n",
       "       1.19372791, 1.67835817, 1.16691168, 1.48862502, 1.62795715,\n",
       "       1.16198516, 1.30938262, 2.66499484, 1.63851452, 1.28347725,\n",
       "       1.26465466, 1.12649158, 1.72969485, 1.93419137, 1.00709466,\n",
       "       1.14667643, 0.99811707, 1.81840918, 1.59882455, 2.7465654 ,\n",
       "       1.59764652, 1.97940239, 0.8387308 , 1.59592768, 1.81525991,\n",
       "       2.28373311, 2.01275466, 2.27988237, 2.32240259, 1.92175553,\n",
       "       2.08561443, 2.48914087, 1.25001384, 1.16806396, 1.64530313,\n",
       "       1.16873995, 1.79787933, 2.43565293, 2.13214105, 1.61475866,\n",
       "       1.59022591, 1.73154485, 2.06691399, 3.32822032, 1.36474209,\n",
       "       2.0747781 , 1.59526531, 2.08308161, 1.78643155, 1.3274183 ,\n",
       "       1.51522923, 0.65572483, 1.58625634, 0.79686016, 0.87231879,\n",
       "       1.25662664, 1.80598094, 1.75480979, 2.51273335, 0.92587064,\n",
       "       1.88020882, 0.98447881, 1.63844976, 0.82424848, 1.15815199,\n",
       "       1.91221727, 2.16410364, 1.25179437, 0.36096861, 1.26533628,\n",
       "       2.86039225, 1.54382161, 1.15212526, 1.31913994, 2.21695667,\n",
       "       1.95087885, 1.35519949, 2.07604393, 1.32968986, 1.64866266,\n",
       "       0.7509051 , 1.79021084, 2.08586622, 1.09669056, 1.64535777,\n",
       "       0.79228928, 1.36171573, 1.46320227, 0.66459726, 1.23471339,\n",
       "       1.60948575, 1.73367769, 2.33231305, 1.2037356 , 1.65651023,\n",
       "       1.80950062, 1.34368748, 1.60518308, 0.98816962, 1.70083164,\n",
       "       1.81081396, 2.40601469, 1.07617823, 2.02380309, 2.4602823 ,\n",
       "       1.47762003, 1.54011279, 0.69787214, 1.96632531, 1.00900679,\n",
       "       1.0775324 , 2.10939062, 0.82659492, 2.13163063, 0.96380507,\n",
       "       1.35480258, 0.88472416, 1.32885511, 1.59614393, 1.14601907,\n",
       "       2.80070224, 1.66438287, 1.16947963, 2.70089006, 2.08741344,\n",
       "       1.08960305, 1.61373456, 1.08868448, 2.46198857, 0.89253833,\n",
       "       1.66378517, 2.10835079, 1.17226331, 0.75446639, 1.3781946 ,\n",
       "       1.45247688, 1.42136462, 2.85582957, 0.4021296 , 2.92303383,\n",
       "       2.8100149 , 2.22115314, 1.54331446, 1.57601861, 1.41214641,\n",
       "       1.66269193, 3.08044107, 0.95775868, 1.41295289, 1.78717641,\n",
       "       1.74164804, 1.49004726, 1.43776714, 3.1304528 , 2.02418168,\n",
       "       1.12503409, 0.8523618 , 2.10836288, 0.98945389, 2.0338256 ,\n",
       "       2.79862063, 0.72543657, 1.84305247, 0.64453535, 0.87113291,\n",
       "       1.07550203, 1.63872336, 1.96683171, 2.52053558, 1.74894372,\n",
       "       0.50046562, 1.76743435, 2.18997514, 0.82436709, 2.19226973,\n",
       "       1.96174024, 2.59399044, 1.29217265, 1.34906846, 1.03839225,\n",
       "       1.09659173, 1.06224759, 3.90598017, 1.85298901, 1.11007866,\n",
       "       0.89983894, 1.35768766, 3.00100122, 1.36309733, 1.41735278,\n",
       "       0.92074019, 2.02456326, 2.65575417, 0.85209674, 1.19138987,\n",
       "       0.97605256, 2.24143102, 0.80516085, 2.66379099, 1.40084353,\n",
       "       2.42396313, 1.47799492, 1.08510134, 1.71696964, 1.26838793,\n",
       "       1.09337335, 1.63831696, 1.58668334, 2.5649197 , 1.60138995,\n",
       "       1.38365611, 1.85294056, 1.91159451, 1.58402474, 1.53455876,\n",
       "       1.96334116, 2.00368865, 0.29646279, 2.7124422 , 1.15640671,\n",
       "       1.3548445 , 1.85186632, 1.7497878 , 1.28988544, 2.16152714,\n",
       "       1.67941085, 0.85770221, 1.23008684, 1.84186569, 1.08134012,\n",
       "       2.56749701, 1.24206214, 2.46766045, 1.7031535 , 1.47379664,\n",
       "       1.55170834, 0.97970704, 2.05779209, 0.99935427, 1.88383543,\n",
       "       1.55485856, 2.17344852, 1.77689297, 2.42957424, 1.19882554,\n",
       "       1.91466567, 2.98071766, 2.2531216 , 0.59071529, 1.66493483,\n",
       "       2.35939046, 1.87177878, 1.73166402, 1.7940345 , 1.49270291,\n",
       "       1.98122531, 1.65071363, 2.29185496, 1.2385963 , 2.33914387,\n",
       "       0.77522028, 1.78471934, 1.50277026, 1.4583323 , 1.80624219,\n",
       "       1.66963377, 1.84462322, 2.11216653, 1.39435977, 1.19496765,\n",
       "       1.47865216, 3.09421965, 2.72115295, 0.91846518, 1.79580751,\n",
       "       2.97237773, 2.20076633, 1.28192671, 0.72070635, 0.81430829,\n",
       "       1.46410083, 0.98932107, 1.19459105, 2.79608702, 1.34230423,\n",
       "       1.51424636, 1.86551385, 3.86792786, 1.81029817, 1.7640401 ,\n",
       "       1.97522458, 0.6057763 , 3.56100655, 0.77302708, 1.71196591,\n",
       "       1.71224482, 1.09986059, 2.21967744, 2.060939  , 1.46290941,\n",
       "       1.72890073, 1.51940484, 1.49528758, 0.84240272, 1.89892099,\n",
       "       1.35252715, 0.80723518, 1.18380867, 2.88272589, 1.94413452,\n",
       "       0.88337788, 2.56955772, 2.03780822, 2.15342265, 1.25156721,\n",
       "       2.43251249, 2.55382577, 1.52360443, 2.20718029, 1.01609614,\n",
       "       0.76184085, 3.07828691, 2.33215233, 1.11614052, 2.14612127,\n",
       "       1.19558733, 1.48761984, 1.72277647, 2.32501357, 0.7541471 ,\n",
       "       1.05405468, 1.81050657, 1.57452112, 1.64309175, 2.077191  ,\n",
       "       2.20898567, 1.97895083, 1.75036263, 1.91140782, 0.57296612,\n",
       "       2.68529663, 1.79605057, 2.14625877, 1.68350021, 1.34317712,\n",
       "       2.67695751, 2.56203509, 1.4450577 , 0.69340609, 1.59399577,\n",
       "       0.90685374, 0.37552379, 1.81824371, 0.43469256, 1.19774539,\n",
       "       1.50354227, 1.09052001, 1.81396009, 1.89544223, 1.54865855,\n",
       "       2.52439546, 2.46959904, 2.26040699, 1.91770209, 2.03798644,\n",
       "       2.1631458 , 1.17316643, 2.19917208, 2.99869111, 2.24632248,\n",
       "       1.58186877, 0.971794  , 1.73525044, 1.77406162, 2.15426853,\n",
       "       1.76278671, 2.87235366, 1.00218547, 1.83390939, 1.06415231,\n",
       "       1.84538883, 1.61816103, 1.59562104, 1.0972345 , 2.13298506,\n",
       "       1.18180187, 0.7332492 , 2.229736  , 2.12279733, 3.03904553,\n",
       "       0.95304031, 2.01773359, 2.16357652, 1.79707661, 1.83902375,\n",
       "       1.00251584, 0.96411987, 0.499319  , 2.51282843, 1.55125269,\n",
       "       1.02919708, 1.33349063, 1.77864857, 1.16752977, 0.84451689,\n",
       "       2.02120336, 1.53195516, 2.35671382, 1.2486418 , 2.10051326,\n",
       "       1.6421378 , 1.16689274, 1.73045158, 1.03126614, 1.31659615,\n",
       "       1.23600114, 1.06532949, 1.34434603, 1.71603724, 1.30086382,\n",
       "       1.22278256, 1.26184665, 2.03034628, 1.67433952, 2.29814342,\n",
       "       1.83303317, 1.21287487, 1.15185938, 1.41196038, 1.70737644,\n",
       "       1.60820769, 1.63791848, 1.31343084, 1.5341003 , 2.20680869,\n",
       "       1.21089262, 1.21529816, 1.49202995, 1.08000885, 1.84396279,\n",
       "       1.77917258, 2.71526842, 2.46272317, 1.77784635, 0.89687042,\n",
       "       0.95084463, 1.75366179, 1.4002535 , 2.08501671, 1.82397932,\n",
       "       2.18318103, 1.4830924 , 1.4932407 , 1.4046845 , 2.28872717,\n",
       "       1.45398772, 1.36516997, 1.19843778, 2.91705308, 1.44141024,\n",
       "       2.43693867, 1.17750123, 1.561496  , 0.90879448, 2.00898437,\n",
       "       2.04164035, 1.65691099, 1.61821227, 1.19626344, 2.55575574,\n",
       "       1.42180551, 1.26055078, 1.33629476, 2.28745478, 1.2499578 ,\n",
       "       2.01553845, 1.18148061, 1.37047666, 1.02764315, 1.55263298,\n",
       "       1.24163577, 1.70807251, 0.92147159, 2.65112139, 1.92434632,\n",
       "       0.78392852, 2.35479825, 1.45514057, 1.56513274, 0.65278916,\n",
       "       1.57778049, 2.37606586, 1.58024034, 1.0104952 , 1.17960844,\n",
       "       1.84426413, 0.53426203, 1.22674991, 0.65836886, 2.00309172,\n",
       "       1.2880703 , 1.11463657, 1.83670405, 0.39967975, 0.83138634,\n",
       "       2.01068718, 2.47602495, 2.43037874, 1.73951055, 1.82329548,\n",
       "       0.89151505, 1.88187443, 0.9742919 , 1.96318022, 1.23003199,\n",
       "       4.20983722, 1.81091954, 1.44942993, 1.39182918, 1.19347898,\n",
       "       2.17565201, 2.43851126, 2.05106409, 2.17629214, 2.17663351,\n",
       "       0.9792304 , 0.92295014, 0.97465538, 1.80439401, 1.14493044,\n",
       "       1.54042558, 0.81795448, 2.61926712, 1.54099797, 2.08350265,\n",
       "       1.97012087, 1.06297497, 1.17910996, 0.51150172, 1.58790542,\n",
       "       0.93637088, 2.33347669, 1.70446886, 1.98108067, 1.94266067,\n",
       "       1.62488111, 1.35566891, 1.77425362, 1.09971232, 1.52316416,\n",
       "       2.21627092, 1.17166202, 1.55587213, 1.46474827, 1.79687426,\n",
       "       2.7152273 , 2.19155126, 1.19012683, 1.45268085, 1.55252604,\n",
       "       1.42431702, 2.25503099, 0.94651201, 2.06258939, 1.1784267 ,\n",
       "       1.74889964, 1.00575153, 1.90335574, 1.13377024, 1.11924061,\n",
       "       1.38624348, 1.22894269, 1.41472592, 2.02313237, 2.09993891,\n",
       "       1.75931008, 2.71862923, 1.45796604, 1.58559104, 1.07851201,\n",
       "       0.83506497, 2.21716249, 2.60019502, 1.61131562, 1.58527188,\n",
       "       1.53367288, 2.17986613, 1.28085753, 0.80976242, 1.65051328,\n",
       "       1.36299051, 1.85796022, 1.86401649, 1.18293238, 3.23224841,\n",
       "       0.63346544, 1.43103563, 1.92454462, 0.46049776, 1.45060365,\n",
       "       1.95979577, 1.82781006, 1.99276455, 2.91278786, 1.82822751,\n",
       "       2.5226894 , 1.55536287, 1.69156187, 2.96181581, 1.59825672,\n",
       "       1.15180867, 1.57946665, 2.08604556, 1.46174897, 1.46619549,\n",
       "       2.41431742, 1.52249278, 1.42333562, 2.73918808, 1.23960965,\n",
       "       2.36445928, 0.94487312, 2.18492368, 1.57739391, 1.19296442,\n",
       "       1.40820993, 1.09793344, 1.85336686, 1.60502981, 1.66368537,\n",
       "       1.46325546, 1.26701124, 1.0246868 , 1.36100736, 1.52608448,\n",
       "       1.50118033, 0.98348249, 2.94617341, 1.93308657, 1.02285051,\n",
       "       1.03836127, 1.41304133, 0.94950606, 2.45560932, 2.35886806,\n",
       "       1.38128446, 1.50739095, 0.95178319, 2.78803123, 1.76412695,\n",
       "       2.04701825, 1.91058396, 1.2597577 , 2.44480759, 2.28052585,\n",
       "       1.67550121, 2.19431994, 1.64962508, 2.24251964, 2.96128588,\n",
       "       0.80021715, 1.71116556, 1.20133963, 1.66724798, 2.23296025,\n",
       "       2.28011429, 2.68349069, 1.48663068, 0.96885559, 1.90193717,\n",
       "       0.91002391, 1.31849674, 0.89953894, 1.50677571, 1.78388811,\n",
       "       1.91435551, 1.01489842, 1.15028758, 1.07285874, 1.75559437,\n",
       "       2.10915341, 0.99903472, 2.64164099, 0.98514365, 2.52816233,\n",
       "       0.94510905, 1.47577073, 0.98298738, 1.80989697, 1.19771761,\n",
       "       1.5301194 , 2.45118315, 2.59143108, 1.25703564, 1.26007956,\n",
       "       1.46300546, 2.118847  , 1.27480333, 1.60508194, 1.72492957,\n",
       "       2.54247886, 1.39520467, 2.04760189, 1.06428526, 2.54924726,\n",
       "       1.27574488, 1.31416576, 1.37902254, 1.92974074, 1.74157326,\n",
       "       0.85288789, 2.33953436, 1.24895279, 1.91479408, 1.2058958 ,\n",
       "       1.60822817, 2.46668418, 0.83015015, 2.12891578, 1.57667232,\n",
       "       2.52591418, 1.72735504, 1.16552032, 1.46929355, 1.07728899,\n",
       "       0.91105263, 2.28020167, 2.79188043, 1.79679757, 2.05796618,\n",
       "       0.98985477, 2.65628634, 2.62526027, 1.62866759, 2.11766855,\n",
       "       1.73535525, 1.68964831, 1.79320008, 1.34472956, 0.33552755,\n",
       "       1.11826889, 1.16495359, 2.50527606, 1.82764082, 1.81278534,\n",
       "       1.60229334, 1.75433909, 2.14240097, 2.09875663, 1.614123  ,\n",
       "       2.37624978, 1.58392322, 1.52800601, 1.69845716, 1.62699324,\n",
       "       1.90699086, 0.91982622, 1.50305877, 1.64060106, 2.52373618,\n",
       "       1.89309576, 1.68501238, 2.19190606, 2.57542653, 2.7815972 ,\n",
       "       3.05991143, 2.81938011, 0.96456614, 1.90167956, 1.73960436,\n",
       "       1.9436092 , 1.69882039, 1.64178221, 1.84080704, 3.03635021])"
      ]
     },
     "execution_count": 47,
     "metadata": {},
     "output_type": "execute_result"
    }
   ],
   "source": [
    "# Calculate standard deviation without correction.\n",
    "stdevs = ysamples.std(axis=1)\n",
    "stdevs"
   ]
  },
  {
   "cell_type": "code",
   "execution_count": 48,
   "metadata": {},
   "outputs": [
    {
     "data": {
      "image/png": "[encoded data removed]",
      "text/plain": [
       "<Figure size 1200x600 with 1 Axes>"
      ]
     },
     "metadata": {},
     "output_type": "display_data"
    }
   ],
   "source": [
    "# View a histogram - hopefully we can see the estimate is too small.\n",
    "fig, ax = plt.subplots(figsize=(12, 6))\n",
    "\n",
    "# Plot histogram.\n",
    "plt.hist(stdevs, bins=100)\n",
    "\n",
    "# Draw a vertical line where the actual standard deviation is.\n",
    "plt.axvline(x=2.0, color='orange');"
   ]
  },
  {
   "cell_type": "code",
   "execution_count": 60,
   "metadata": {},
   "outputs": [
    {
     "data": {
      "text/plain": [
       "0.9566419816672022"
      ]
     },
     "execution_count": 60,
     "metadata": {},
     "output_type": "execute_result"
    }
   ],
   "source": [
    "# Correction\n",
    "# Uncorrected variance.\n",
    "yUncorrectedVariance = np.mean(np.square(y - np.mean(y)))\n",
    "yUncorrectedVariance"
   ]
  },
  {
   "cell_type": "code",
   "execution_count": 61,
   "metadata": {},
   "outputs": [
    {
     "data": {
      "text/plain": [
       "0.966305031987073"
      ]
     },
     "execution_count": 61,
     "metadata": {},
     "output_type": "execute_result"
    }
   ],
   "source": [
    "# Corrected variance.\n",
    "YcorrectedVariance  = np.mean(np.square(y - np.mean(y))) * (len(y) / (len(y) - 1.0))\n",
    "YcorrectedVariance"
   ]
  },
  {
   "cell_type": "code",
   "execution_count": 63,
   "metadata": {},
   "outputs": [
    {
     "data": {
      "text/plain": [
       "0.009663050319870803"
      ]
     },
     "execution_count": 63,
     "metadata": {},
     "output_type": "execute_result"
    }
   ],
   "source": [
    "## Differnce in Standards deviation calculaion for Smaller Sample size\n",
    "StandardDeviationSmall = YcorrectedVariance - yUncorrectedVariance\n",
    "StandardDeviationSmall "
   ]
  },
  {
   "cell_type": "code",
   "execution_count": 64,
   "metadata": {},
   "outputs": [
    {
     "name": "stdout",
     "output_type": "stream",
     "text": [
      "Standard deviation on a smaller sample set is greater than the larger set\n"
     ]
    }
   ],
   "source": [
    "if StandardDeviationSmall > StandardDeviationLargeDifference:\n",
    "  print(\"Standard deviation on a smaller sample set is greater than the larger set\")"
   ]
  },
  {
   "cell_type": "code",
   "execution_count": null,
   "metadata": {},
   "outputs": [],
   "source": []
  }
 ],
 "metadata": {
  "kernelspec": {
   "display_name": "Python 3 (ipykernel)",
   "language": "python",
   "name": "python3"
  },
  "language_info": {
   "codemirror_mode": {
    "name": "ipython",
    "version": 3
   },
   "file_extension": ".py",
   "mimetype": "text/x-python",
   "name": "python",
   "nbconvert_exporter": "python",
   "pygments_lexer": "ipython3",
   "version": "3.9.13"
  }
 },
 "nbformat": 4,
 "nbformat_minor": 1
}
