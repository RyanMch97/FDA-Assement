{
 "cells": [
  {
   "cell_type": "markdown",
   "metadata": {},
   "source": [
    "## Topic 3 - Bias"
   ]
  },
  {
   "cell_type": "markdown",
   "metadata": {},
   "source": [
    "## Exercise 1"
   ]
  },
  {
   "cell_type": "markdown",
   "metadata": {},
   "source": [
    "Give three real-world examples of different types of cognitive bias."
   ]
  },
  {
   "cell_type": "markdown",
   "metadata": {},
   "source": [
    "On cognitive bias to get more of an idea of what it really is I started by using Wikipedia: https://en.wikipedia.org/wiki/Cognitive_bias\n",
    "\n",
    "From this we gather that \"A cognitive bias is a systematic pattern of deviation from norm or rationality in judgment. Individuals create their own \"subjective reality\" from their perception of the input\".\n",
    "\n",
    "From reading the wiki they provide a handy list of the various different types of Cognitive Biases.\n",
    "https://en.wikipedia.org/wiki/List_of_cognitive_biases"
   ]
  },
  {
   "cell_type": "markdown",
   "metadata": {},
   "source": [
    "##### Planning Fallacy"
   ]
  },
  {
   "cell_type": "markdown",
   "metadata": {},
   "source": [
    "For my first Example I am going to use the Egocentric bias - [Planning Fallacy](https://en.wikipedia.org/wiki/Planning_fallacy)\n",
    "\n",
    "Planning fallacy bias is defined as \"the tendency for people to underestimate the time it will take them to complete a given task.\"\n",
    "\n",
    "Many people with poor planning skills can fall foul of Planning Fallacy Bias. For example many students often times do not give themselves enough time to complete an assignment or assement, this leads to submitting an assignment or project past a due date & receiving poor grades.\n",
    "\n",
    "In work environments you might be given a task by a manager on any given day & he requests for it to be complete by 5pm, COB (Close of Business). In this example let's say this is a task you have completed on numerous occassions before & you nominate 45 mins around the end of the day to complete. You start at 4:15 but soon after starting the task this may be tougher than orginally, you give the task completed to your boss at 5:30pm, he's not happy either that you've fallen foul of Planning Fallacy Bias.\n"
   ]
  },
  {
   "cell_type": "markdown",
   "metadata": {},
   "source": [
    "Many people with poor planning skills can fall foul of Planning Fallacy Bias. For example many students often times do not give themselves enough time to complete an assignment or assement, this leads to submitting an assignment or project past a due date & receiving poor grades."
   ]
  },
  {
   "cell_type": "markdown",
   "metadata": {},
   "source": [
    "In work environments you might be given a task by a manager on any given day & he requests for it to be complete by 5pm, COB (Close of Business). In this example let's say this is a task you have completed on numerous occassions before & you nominate 45 mins around the end of the day to complete. You start at 4:15 but soon after starting the task this may be tougher than orginally, you give the task completed to your boss at 5:30pm, he's not happy either that you've fallen foul of Planning Fallacy Bias."
   ]
  },
  {
   "cell_type": "markdown",
   "metadata": {},
   "source": [
    "##### Anchoring"
   ]
  },
  {
   "cell_type": "markdown",
   "metadata": {},
   "source": [
    "For my second example I will use [Anchoring Bias](https://en.wikipedia.org/wiki/Anchoring_(cognitive_bias))\n",
    "\n",
    "this is defined as \"anchoring effect is a cognitive bias whereby an individual's decisions are influenced by a particular reference point or 'anchor\"\n",
    "\n",
    "As per the wikipedia page they state numerous examples such as car dealerships placing more expensive models beside base models of cars so that prospective buyers will be more inclined to purchased the cheaper model due to viewing the expensive kitted out model as the \"Anchor\" in terms of pricing"
   ]
  },
  {
   "cell_type": "markdown",
   "metadata": {},
   "source": [
    "For my real world example I am going to use online shopping & specfically Delivery fee's. \n",
    "Throughout the year we all find ourselves doing online shopping at some stage, the majority of people will have particular items that wish to purchase, a new jumper & a pair of Jeans is what we will use for this example.\n",
    "Let's say you purchased Jeans & a new jumper last Black Friday for a cheap cost of €80."
   ]
  },
  {
   "cell_type": "markdown",
   "metadata": {},
   "source": [
    "Your find a brand that you really like & go to there online store. You browse the clearance section & select two items totalling €70. You assume the delivery will be less than €10 & since you are comparing to last years \"Anchor\" price you are happy to checkout."
   ]
  },
  {
   "cell_type": "markdown",
   "metadata": {},
   "source": [
    "When you get to checkout you realise you have been browsing the US store & there is no european website/shipping to avail of.\n",
    "The delivery will set you back an extra €20 bringing your new total to €90. \n",
    "Now subconsciously due to the anchor price from last Novemeber you are convincing yourself not to buy due to the \"Anchor\".\n",
    "This is an example of Anchoring Bias"
   ]
  },
  {
   "cell_type": "markdown",
   "metadata": {},
   "source": [
    "##### Implicit bias"
   ]
  },
  {
   "cell_type": "markdown",
   "metadata": {},
   "source": [
    "For my final Cognitive Bias I am going to use Implicit Bias [Implicit Bias ](https://en.wikipedia.org/wiki/Implicit_stereotype)"
   ]
  },
  {
   "cell_type": "markdown",
   "metadata": {},
   "source": [
    "As per Wikipedia this is defined as \"Implicit Bias is the pre-reflective attribution of particular qualities by an individual to a member of some social out group\".\n",
    "Implicit Biases specifically are described as \"the product of associations learned through past experiences\".\n",
    "With this the Bias can either be postive or negative. For my real world examples I will use both Positive & Negative examples."
   ]
  },
  {
   "cell_type": "markdown",
   "metadata": {},
   "source": [
    "Postive Implicit Bias is something as Irish citizens we may experience quite a bit when we venture abroad. \n",
    "Let's take Irish Citizens aboard in America. Speaking from personal experience when I lived in America the American people I met who visited Ireland typically had only good things to say such as \"kind\", \"Well Natured\", \"Friendly\" people.\n",
    "This gives them an implicit Bias that any Irish citizen in american may be as kind & friendly as the previous Irish people they met who gave them a good impression."
   ]
  },
  {
   "cell_type": "markdown",
   "metadata": {},
   "source": [
    "Negative Implicit Bias sadly can often be attributed to any of the following for example, Race & Age.\n",
    "In terms of race some people may have negative implicit bias's towards certain races of people. For example if you got robbed by a man of a particular race you potentially might hold a negative implicit Bias towards fellow members of that race even though the actions of one Man/Women should not define the actions of an entire race."
   ]
  },
  {
   "cell_type": "markdown",
   "metadata": {},
   "source": [
    "In terms of age in the real world this can be work related for example. A manager may be requested to promote someone & given 3 choices. If this manager has hired a younger person in the past who failed to live up to expectations he may decide against promoting a younger canditate for the promotion due to there implicit bias after the last young hire.\n",
    "With this it can also be noted that the younger canditate may be best suited for the promotion role but the Managers Bias negatively affects his decision making."
   ]
  },
  {
   "cell_type": "code",
   "execution_count": null,
   "metadata": {},
   "outputs": [],
   "source": []
  },
  {
   "cell_type": "markdown",
   "metadata": {},
   "source": []
  }
 ],
 "metadata": {
  "kernelspec": {
   "display_name": "Python 3 (ipykernel)",
   "language": "python",
   "name": "python3"
  },
  "language_info": {
   "codemirror_mode": {
    "name": "ipython",
    "version": 3
   },
   "file_extension": ".py",
   "mimetype": "text/x-python",
   "name": "python",
   "nbconvert_exporter": "python",
   "pygments_lexer": "ipython3",
   "version": "3.9.13"
  }
 },
 "nbformat": 4,
 "nbformat_minor": 1
}
